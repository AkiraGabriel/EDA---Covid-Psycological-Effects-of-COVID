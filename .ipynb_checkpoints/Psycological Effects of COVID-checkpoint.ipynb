{
 "cells": [
  {
   "cell_type": "markdown",
   "id": "55ce0e7c",
   "metadata": {},
   "source": [
    "# Importação de Bibliotecas"
   ]
  },
  {
   "cell_type": "code",
   "execution_count": 1,
   "id": "c0e3cf14",
   "metadata": {},
   "outputs": [],
   "source": [
    "import pandas as pd\n",
    "import matplotlib.pyplot as plt\n",
    "import seaborn as sns\n",
    "import warnings"
   ]
  },
  {
   "cell_type": "markdown",
   "id": "923b8971",
   "metadata": {},
   "source": [
    "# Lendo arquivo"
   ]
  },
  {
   "cell_type": "code",
   "execution_count": 2,
   "id": "ddbb662d",
   "metadata": {},
   "outputs": [],
   "source": [
    "df = pd.read_csv('./data/Psycological-Effects-of-COVID.csv')"
   ]
  },
  {
   "cell_type": "markdown",
   "id": "3b35d6cf",
   "metadata": {},
   "source": [
    "# Tratamento de Dados"
   ]
  },
  {
   "cell_type": "code",
   "execution_count": 3,
   "id": "aba72c42",
   "metadata": {},
   "outputs": [
    {
     "data": {
      "text/plain": [
       "(1175, 22)"
      ]
     },
     "execution_count": 3,
     "metadata": {},
     "output_type": "execute_result"
    }
   ],
   "source": [
    "df.shape"
   ]
  },
  {
   "cell_type": "markdown",
   "id": "69d0516d",
   "metadata": {},
   "source": [
    "O dataframe a ser analisado possui 1.175 linhas e 22 colunas."
   ]
  },
  {
   "cell_type": "code",
   "execution_count": 4,
   "id": "82bbcb68",
   "metadata": {
    "scrolled": true
   },
   "outputs": [
    {
     "data": {
      "text/html": [
       "<div>\n",
       "<style scoped>\n",
       "    .dataframe tbody tr th:only-of-type {\n",
       "        vertical-align: middle;\n",
       "    }\n",
       "\n",
       "    .dataframe tbody tr th {\n",
       "        vertical-align: top;\n",
       "    }\n",
       "\n",
       "    .dataframe thead th {\n",
       "        text-align: right;\n",
       "    }\n",
       "</style>\n",
       "<table border=\"1\" class=\"dataframe\">\n",
       "  <thead>\n",
       "    <tr style=\"text-align: right;\">\n",
       "      <th></th>\n",
       "      <th>age</th>\n",
       "      <th>gender</th>\n",
       "      <th>occupation</th>\n",
       "      <th>line_of_work</th>\n",
       "      <th>time_bp</th>\n",
       "      <th>time_dp</th>\n",
       "      <th>travel_time</th>\n",
       "      <th>easeof_online</th>\n",
       "      <th>home_env</th>\n",
       "      <th>prod_inc</th>\n",
       "      <th>...</th>\n",
       "      <th>fam_connect</th>\n",
       "      <th>relaxed</th>\n",
       "      <th>self_time</th>\n",
       "      <th>like_hw</th>\n",
       "      <th>dislike_hw</th>\n",
       "      <th>prefer</th>\n",
       "      <th>certaindays_hw</th>\n",
       "      <th>Unnamed: 19</th>\n",
       "      <th>time_bp.1</th>\n",
       "      <th>travel+work</th>\n",
       "    </tr>\n",
       "  </thead>\n",
       "  <tbody>\n",
       "    <tr>\n",
       "      <th>0</th>\n",
       "      <td>19-25</td>\n",
       "      <td>Male</td>\n",
       "      <td>Student in College</td>\n",
       "      <td>NaN</td>\n",
       "      <td>7</td>\n",
       "      <td>5</td>\n",
       "      <td>0.5</td>\n",
       "      <td>3</td>\n",
       "      <td>3</td>\n",
       "      <td>0.0</td>\n",
       "      <td>...</td>\n",
       "      <td>1.0</td>\n",
       "      <td>-0.5</td>\n",
       "      <td>-0.5</td>\n",
       "      <td>100</td>\n",
       "      <td>1</td>\n",
       "      <td>Complete Physical Attendance</td>\n",
       "      <td>Yes</td>\n",
       "      <td>NaN</td>\n",
       "      <td>7</td>\n",
       "      <td>NaN</td>\n",
       "    </tr>\n",
       "    <tr>\n",
       "      <th>1</th>\n",
       "      <td>Dec-18</td>\n",
       "      <td>Male</td>\n",
       "      <td>Student in School</td>\n",
       "      <td>NaN</td>\n",
       "      <td>7</td>\n",
       "      <td>11</td>\n",
       "      <td>0.5</td>\n",
       "      <td>4</td>\n",
       "      <td>2</td>\n",
       "      <td>-0.5</td>\n",
       "      <td>...</td>\n",
       "      <td>1.0</td>\n",
       "      <td>1.0</td>\n",
       "      <td>1.0</td>\n",
       "      <td>1111</td>\n",
       "      <td>1110</td>\n",
       "      <td>Complete Physical Attendance</td>\n",
       "      <td>No</td>\n",
       "      <td>NaN</td>\n",
       "      <td>7</td>\n",
       "      <td>NaN</td>\n",
       "    </tr>\n",
       "    <tr>\n",
       "      <th>2</th>\n",
       "      <td>19-25</td>\n",
       "      <td>Male</td>\n",
       "      <td>Student in College</td>\n",
       "      <td>NaN</td>\n",
       "      <td>7</td>\n",
       "      <td>7</td>\n",
       "      <td>1.5</td>\n",
       "      <td>2</td>\n",
       "      <td>2</td>\n",
       "      <td>1.0</td>\n",
       "      <td>...</td>\n",
       "      <td>0.5</td>\n",
       "      <td>0.5</td>\n",
       "      <td>0.5</td>\n",
       "      <td>1100</td>\n",
       "      <td>111</td>\n",
       "      <td>Complete Physical Attendance</td>\n",
       "      <td>Yes</td>\n",
       "      <td>NaN</td>\n",
       "      <td>7</td>\n",
       "      <td>NaN</td>\n",
       "    </tr>\n",
       "    <tr>\n",
       "      <th>3</th>\n",
       "      <td>19-25</td>\n",
       "      <td>Male</td>\n",
       "      <td>Student in College</td>\n",
       "      <td>NaN</td>\n",
       "      <td>7</td>\n",
       "      <td>7</td>\n",
       "      <td>1.5</td>\n",
       "      <td>3</td>\n",
       "      <td>1</td>\n",
       "      <td>0.0</td>\n",
       "      <td>...</td>\n",
       "      <td>0.0</td>\n",
       "      <td>-1.0</td>\n",
       "      <td>-0.5</td>\n",
       "      <td>100</td>\n",
       "      <td>1111</td>\n",
       "      <td>Complete Physical Attendance</td>\n",
       "      <td>Yes</td>\n",
       "      <td>NaN</td>\n",
       "      <td>7</td>\n",
       "      <td>NaN</td>\n",
       "    </tr>\n",
       "    <tr>\n",
       "      <th>4</th>\n",
       "      <td>19-25</td>\n",
       "      <td>Female</td>\n",
       "      <td>Student in College</td>\n",
       "      <td>NaN</td>\n",
       "      <td>7</td>\n",
       "      <td>7</td>\n",
       "      <td>1.5</td>\n",
       "      <td>2</td>\n",
       "      <td>2</td>\n",
       "      <td>0.0</td>\n",
       "      <td>...</td>\n",
       "      <td>0.0</td>\n",
       "      <td>0.5</td>\n",
       "      <td>0.0</td>\n",
       "      <td>1010</td>\n",
       "      <td>1000</td>\n",
       "      <td>Complete Physical Attendance</td>\n",
       "      <td>Yes</td>\n",
       "      <td>NaN</td>\n",
       "      <td>7</td>\n",
       "      <td>NaN</td>\n",
       "    </tr>\n",
       "  </tbody>\n",
       "</table>\n",
       "<p>5 rows × 22 columns</p>\n",
       "</div>"
      ],
      "text/plain": [
       "      age  gender          occupation line_of_work  time_bp  time_dp  \\\n",
       "0   19-25    Male  Student in College          NaN        7        5   \n",
       "1  Dec-18    Male   Student in School          NaN        7       11   \n",
       "2   19-25    Male  Student in College          NaN        7        7   \n",
       "3   19-25    Male  Student in College          NaN        7        7   \n",
       "4   19-25  Female  Student in College          NaN        7        7   \n",
       "\n",
       "   travel_time  easeof_online  home_env  prod_inc  ...  fam_connect  relaxed  \\\n",
       "0          0.5              3         3       0.0  ...          1.0     -0.5   \n",
       "1          0.5              4         2      -0.5  ...          1.0      1.0   \n",
       "2          1.5              2         2       1.0  ...          0.5      0.5   \n",
       "3          1.5              3         1       0.0  ...          0.0     -1.0   \n",
       "4          1.5              2         2       0.0  ...          0.0      0.5   \n",
       "\n",
       "   self_time  like_hw  dislike_hw                        prefer  \\\n",
       "0       -0.5      100           1  Complete Physical Attendance   \n",
       "1        1.0     1111        1110  Complete Physical Attendance   \n",
       "2        0.5     1100         111  Complete Physical Attendance   \n",
       "3       -0.5      100        1111  Complete Physical Attendance   \n",
       "4        0.0     1010        1000  Complete Physical Attendance   \n",
       "\n",
       "   certaindays_hw Unnamed: 19 time_bp.1  travel+work  \n",
       "0             Yes         NaN         7          NaN  \n",
       "1              No         NaN         7          NaN  \n",
       "2             Yes         NaN         7          NaN  \n",
       "3             Yes         NaN         7          NaN  \n",
       "4             Yes         NaN         7          NaN  \n",
       "\n",
       "[5 rows x 22 columns]"
      ]
     },
     "execution_count": 4,
     "metadata": {},
     "output_type": "execute_result"
    }
   ],
   "source": [
    "df.head()"
   ]
  },
  {
   "cell_type": "code",
   "execution_count": 5,
   "id": "df9c4728",
   "metadata": {
    "scrolled": true
   },
   "outputs": [
    {
     "data": {
      "text/html": [
       "<div>\n",
       "<style scoped>\n",
       "    .dataframe tbody tr th:only-of-type {\n",
       "        vertical-align: middle;\n",
       "    }\n",
       "\n",
       "    .dataframe tbody tr th {\n",
       "        vertical-align: top;\n",
       "    }\n",
       "\n",
       "    .dataframe thead th {\n",
       "        text-align: right;\n",
       "    }\n",
       "</style>\n",
       "<table border=\"1\" class=\"dataframe\">\n",
       "  <thead>\n",
       "    <tr style=\"text-align: right;\">\n",
       "      <th></th>\n",
       "      <th>time_bp</th>\n",
       "      <th>time_dp</th>\n",
       "      <th>travel_time</th>\n",
       "      <th>easeof_online</th>\n",
       "      <th>home_env</th>\n",
       "      <th>prod_inc</th>\n",
       "      <th>sleep_bal</th>\n",
       "      <th>new_skill</th>\n",
       "      <th>fam_connect</th>\n",
       "      <th>relaxed</th>\n",
       "      <th>self_time</th>\n",
       "      <th>like_hw</th>\n",
       "      <th>dislike_hw</th>\n",
       "      <th>Unnamed: 19</th>\n",
       "      <th>time_bp.1</th>\n",
       "      <th>travel+work</th>\n",
       "    </tr>\n",
       "  </thead>\n",
       "  <tbody>\n",
       "    <tr>\n",
       "      <th>count</th>\n",
       "      <td>1175.000000</td>\n",
       "      <td>1175.000000</td>\n",
       "      <td>1175.000000</td>\n",
       "      <td>1175.000000</td>\n",
       "      <td>1175.000000</td>\n",
       "      <td>1175.000000</td>\n",
       "      <td>1175.000000</td>\n",
       "      <td>1175.000000</td>\n",
       "      <td>1175.000000</td>\n",
       "      <td>1175.000000</td>\n",
       "      <td>1175.000000</td>\n",
       "      <td>1175.000000</td>\n",
       "      <td>1175.000000</td>\n",
       "      <td>0.0</td>\n",
       "      <td>1175.000000</td>\n",
       "      <td>0.0</td>\n",
       "    </tr>\n",
       "    <tr>\n",
       "      <th>mean</th>\n",
       "      <td>7.415319</td>\n",
       "      <td>7.971915</td>\n",
       "      <td>1.027660</td>\n",
       "      <td>2.533617</td>\n",
       "      <td>2.752340</td>\n",
       "      <td>0.008936</td>\n",
       "      <td>-0.108936</td>\n",
       "      <td>0.146809</td>\n",
       "      <td>0.260426</td>\n",
       "      <td>0.035745</td>\n",
       "      <td>0.082979</td>\n",
       "      <td>734.840851</td>\n",
       "      <td>651.067234</td>\n",
       "      <td>NaN</td>\n",
       "      <td>7.415319</td>\n",
       "      <td>NaN</td>\n",
       "    </tr>\n",
       "    <tr>\n",
       "      <th>std</th>\n",
       "      <td>2.005385</td>\n",
       "      <td>2.657007</td>\n",
       "      <td>0.713314</td>\n",
       "      <td>1.267609</td>\n",
       "      <td>1.235799</td>\n",
       "      <td>0.615083</td>\n",
       "      <td>0.621215</td>\n",
       "      <td>0.643686</td>\n",
       "      <td>0.686825</td>\n",
       "      <td>0.626637</td>\n",
       "      <td>0.541434</td>\n",
       "      <td>468.000935</td>\n",
       "      <td>502.319310</td>\n",
       "      <td>NaN</td>\n",
       "      <td>2.005385</td>\n",
       "      <td>NaN</td>\n",
       "    </tr>\n",
       "    <tr>\n",
       "      <th>min</th>\n",
       "      <td>4.000000</td>\n",
       "      <td>4.000000</td>\n",
       "      <td>0.500000</td>\n",
       "      <td>1.000000</td>\n",
       "      <td>1.000000</td>\n",
       "      <td>-1.000000</td>\n",
       "      <td>-1.000000</td>\n",
       "      <td>-1.000000</td>\n",
       "      <td>-1.000000</td>\n",
       "      <td>-1.000000</td>\n",
       "      <td>-1.000000</td>\n",
       "      <td>1.000000</td>\n",
       "      <td>1.000000</td>\n",
       "      <td>NaN</td>\n",
       "      <td>4.000000</td>\n",
       "      <td>NaN</td>\n",
       "    </tr>\n",
       "    <tr>\n",
       "      <th>25%</th>\n",
       "      <td>5.000000</td>\n",
       "      <td>5.000000</td>\n",
       "      <td>0.500000</td>\n",
       "      <td>1.000000</td>\n",
       "      <td>2.000000</td>\n",
       "      <td>-0.500000</td>\n",
       "      <td>-0.500000</td>\n",
       "      <td>-0.500000</td>\n",
       "      <td>0.000000</td>\n",
       "      <td>-0.500000</td>\n",
       "      <td>-0.500000</td>\n",
       "      <td>100.000000</td>\n",
       "      <td>101.000000</td>\n",
       "      <td>NaN</td>\n",
       "      <td>5.000000</td>\n",
       "      <td>NaN</td>\n",
       "    </tr>\n",
       "    <tr>\n",
       "      <th>50%</th>\n",
       "      <td>7.000000</td>\n",
       "      <td>9.000000</td>\n",
       "      <td>0.500000</td>\n",
       "      <td>2.000000</td>\n",
       "      <td>3.000000</td>\n",
       "      <td>0.000000</td>\n",
       "      <td>0.000000</td>\n",
       "      <td>0.500000</td>\n",
       "      <td>0.500000</td>\n",
       "      <td>0.000000</td>\n",
       "      <td>0.000000</td>\n",
       "      <td>1001.000000</td>\n",
       "      <td>1000.000000</td>\n",
       "      <td>NaN</td>\n",
       "      <td>7.000000</td>\n",
       "      <td>NaN</td>\n",
       "    </tr>\n",
       "    <tr>\n",
       "      <th>75%</th>\n",
       "      <td>9.000000</td>\n",
       "      <td>9.000000</td>\n",
       "      <td>1.500000</td>\n",
       "      <td>4.000000</td>\n",
       "      <td>4.000000</td>\n",
       "      <td>0.500000</td>\n",
       "      <td>0.500000</td>\n",
       "      <td>0.500000</td>\n",
       "      <td>1.000000</td>\n",
       "      <td>0.500000</td>\n",
       "      <td>0.500000</td>\n",
       "      <td>1100.000000</td>\n",
       "      <td>1101.000000</td>\n",
       "      <td>NaN</td>\n",
       "      <td>9.000000</td>\n",
       "      <td>NaN</td>\n",
       "    </tr>\n",
       "    <tr>\n",
       "      <th>max</th>\n",
       "      <td>12.000000</td>\n",
       "      <td>12.000000</td>\n",
       "      <td>3.000000</td>\n",
       "      <td>5.000000</td>\n",
       "      <td>5.000000</td>\n",
       "      <td>1.000000</td>\n",
       "      <td>1.000000</td>\n",
       "      <td>1.000000</td>\n",
       "      <td>1.000000</td>\n",
       "      <td>1.000000</td>\n",
       "      <td>1.000000</td>\n",
       "      <td>1111.000000</td>\n",
       "      <td>1111.000000</td>\n",
       "      <td>NaN</td>\n",
       "      <td>12.000000</td>\n",
       "      <td>NaN</td>\n",
       "    </tr>\n",
       "  </tbody>\n",
       "</table>\n",
       "</div>"
      ],
      "text/plain": [
       "           time_bp      time_dp  travel_time  easeof_online     home_env  \\\n",
       "count  1175.000000  1175.000000  1175.000000    1175.000000  1175.000000   \n",
       "mean      7.415319     7.971915     1.027660       2.533617     2.752340   \n",
       "std       2.005385     2.657007     0.713314       1.267609     1.235799   \n",
       "min       4.000000     4.000000     0.500000       1.000000     1.000000   \n",
       "25%       5.000000     5.000000     0.500000       1.000000     2.000000   \n",
       "50%       7.000000     9.000000     0.500000       2.000000     3.000000   \n",
       "75%       9.000000     9.000000     1.500000       4.000000     4.000000   \n",
       "max      12.000000    12.000000     3.000000       5.000000     5.000000   \n",
       "\n",
       "          prod_inc    sleep_bal    new_skill  fam_connect      relaxed  \\\n",
       "count  1175.000000  1175.000000  1175.000000  1175.000000  1175.000000   \n",
       "mean      0.008936    -0.108936     0.146809     0.260426     0.035745   \n",
       "std       0.615083     0.621215     0.643686     0.686825     0.626637   \n",
       "min      -1.000000    -1.000000    -1.000000    -1.000000    -1.000000   \n",
       "25%      -0.500000    -0.500000    -0.500000     0.000000    -0.500000   \n",
       "50%       0.000000     0.000000     0.500000     0.500000     0.000000   \n",
       "75%       0.500000     0.500000     0.500000     1.000000     0.500000   \n",
       "max       1.000000     1.000000     1.000000     1.000000     1.000000   \n",
       "\n",
       "         self_time      like_hw   dislike_hw  Unnamed: 19    time_bp.1  \\\n",
       "count  1175.000000  1175.000000  1175.000000          0.0  1175.000000   \n",
       "mean      0.082979   734.840851   651.067234          NaN     7.415319   \n",
       "std       0.541434   468.000935   502.319310          NaN     2.005385   \n",
       "min      -1.000000     1.000000     1.000000          NaN     4.000000   \n",
       "25%      -0.500000   100.000000   101.000000          NaN     5.000000   \n",
       "50%       0.000000  1001.000000  1000.000000          NaN     7.000000   \n",
       "75%       0.500000  1100.000000  1101.000000          NaN     9.000000   \n",
       "max       1.000000  1111.000000  1111.000000          NaN    12.000000   \n",
       "\n",
       "       travel+work  \n",
       "count          0.0  \n",
       "mean           NaN  \n",
       "std            NaN  \n",
       "min            NaN  \n",
       "25%            NaN  \n",
       "50%            NaN  \n",
       "75%            NaN  \n",
       "max            NaN  "
      ]
     },
     "execution_count": 5,
     "metadata": {},
     "output_type": "execute_result"
    }
   ],
   "source": [
    "df.describe()"
   ]
  },
  {
   "cell_type": "code",
   "execution_count": 6,
   "id": "822e031e",
   "metadata": {},
   "outputs": [
    {
     "data": {
      "text/html": [
       "<div>\n",
       "<style scoped>\n",
       "    .dataframe tbody tr th:only-of-type {\n",
       "        vertical-align: middle;\n",
       "    }\n",
       "\n",
       "    .dataframe tbody tr th {\n",
       "        vertical-align: top;\n",
       "    }\n",
       "\n",
       "    .dataframe thead th {\n",
       "        text-align: right;\n",
       "    }\n",
       "</style>\n",
       "<table border=\"1\" class=\"dataframe\">\n",
       "  <thead>\n",
       "    <tr style=\"text-align: right;\">\n",
       "      <th></th>\n",
       "      <th>time_bp</th>\n",
       "      <th>time_dp</th>\n",
       "      <th>travel_time</th>\n",
       "      <th>easeof_online</th>\n",
       "      <th>home_env</th>\n",
       "      <th>prod_inc</th>\n",
       "      <th>sleep_bal</th>\n",
       "      <th>new_skill</th>\n",
       "      <th>fam_connect</th>\n",
       "      <th>relaxed</th>\n",
       "      <th>self_time</th>\n",
       "      <th>like_hw</th>\n",
       "      <th>dislike_hw</th>\n",
       "      <th>Unnamed: 19</th>\n",
       "      <th>time_bp.1</th>\n",
       "      <th>travel+work</th>\n",
       "    </tr>\n",
       "  </thead>\n",
       "  <tbody>\n",
       "    <tr>\n",
       "      <th>count</th>\n",
       "      <td>1175.000000</td>\n",
       "      <td>1175.000000</td>\n",
       "      <td>1175.000000</td>\n",
       "      <td>1175.000000</td>\n",
       "      <td>1175.000000</td>\n",
       "      <td>1175.000000</td>\n",
       "      <td>1175.000000</td>\n",
       "      <td>1175.000000</td>\n",
       "      <td>1175.000000</td>\n",
       "      <td>1175.000000</td>\n",
       "      <td>1175.000000</td>\n",
       "      <td>1175.000000</td>\n",
       "      <td>1175.000000</td>\n",
       "      <td>0.0</td>\n",
       "      <td>1175.000000</td>\n",
       "      <td>0.0</td>\n",
       "    </tr>\n",
       "    <tr>\n",
       "      <th>mean</th>\n",
       "      <td>7.415319</td>\n",
       "      <td>7.971915</td>\n",
       "      <td>1.027660</td>\n",
       "      <td>2.533617</td>\n",
       "      <td>2.752340</td>\n",
       "      <td>0.008936</td>\n",
       "      <td>-0.108936</td>\n",
       "      <td>0.146809</td>\n",
       "      <td>0.260426</td>\n",
       "      <td>0.035745</td>\n",
       "      <td>0.082979</td>\n",
       "      <td>734.840851</td>\n",
       "      <td>651.067234</td>\n",
       "      <td>NaN</td>\n",
       "      <td>7.415319</td>\n",
       "      <td>NaN</td>\n",
       "    </tr>\n",
       "    <tr>\n",
       "      <th>std</th>\n",
       "      <td>2.005385</td>\n",
       "      <td>2.657007</td>\n",
       "      <td>0.713314</td>\n",
       "      <td>1.267609</td>\n",
       "      <td>1.235799</td>\n",
       "      <td>0.615083</td>\n",
       "      <td>0.621215</td>\n",
       "      <td>0.643686</td>\n",
       "      <td>0.686825</td>\n",
       "      <td>0.626637</td>\n",
       "      <td>0.541434</td>\n",
       "      <td>468.000935</td>\n",
       "      <td>502.319310</td>\n",
       "      <td>NaN</td>\n",
       "      <td>2.005385</td>\n",
       "      <td>NaN</td>\n",
       "    </tr>\n",
       "    <tr>\n",
       "      <th>min</th>\n",
       "      <td>4.000000</td>\n",
       "      <td>4.000000</td>\n",
       "      <td>0.500000</td>\n",
       "      <td>1.000000</td>\n",
       "      <td>1.000000</td>\n",
       "      <td>-1.000000</td>\n",
       "      <td>-1.000000</td>\n",
       "      <td>-1.000000</td>\n",
       "      <td>-1.000000</td>\n",
       "      <td>-1.000000</td>\n",
       "      <td>-1.000000</td>\n",
       "      <td>1.000000</td>\n",
       "      <td>1.000000</td>\n",
       "      <td>NaN</td>\n",
       "      <td>4.000000</td>\n",
       "      <td>NaN</td>\n",
       "    </tr>\n",
       "    <tr>\n",
       "      <th>25%</th>\n",
       "      <td>5.000000</td>\n",
       "      <td>5.000000</td>\n",
       "      <td>0.500000</td>\n",
       "      <td>1.000000</td>\n",
       "      <td>2.000000</td>\n",
       "      <td>-0.500000</td>\n",
       "      <td>-0.500000</td>\n",
       "      <td>-0.500000</td>\n",
       "      <td>0.000000</td>\n",
       "      <td>-0.500000</td>\n",
       "      <td>-0.500000</td>\n",
       "      <td>100.000000</td>\n",
       "      <td>101.000000</td>\n",
       "      <td>NaN</td>\n",
       "      <td>5.000000</td>\n",
       "      <td>NaN</td>\n",
       "    </tr>\n",
       "    <tr>\n",
       "      <th>50%</th>\n",
       "      <td>7.000000</td>\n",
       "      <td>9.000000</td>\n",
       "      <td>0.500000</td>\n",
       "      <td>2.000000</td>\n",
       "      <td>3.000000</td>\n",
       "      <td>0.000000</td>\n",
       "      <td>0.000000</td>\n",
       "      <td>0.500000</td>\n",
       "      <td>0.500000</td>\n",
       "      <td>0.000000</td>\n",
       "      <td>0.000000</td>\n",
       "      <td>1001.000000</td>\n",
       "      <td>1000.000000</td>\n",
       "      <td>NaN</td>\n",
       "      <td>7.000000</td>\n",
       "      <td>NaN</td>\n",
       "    </tr>\n",
       "    <tr>\n",
       "      <th>75%</th>\n",
       "      <td>9.000000</td>\n",
       "      <td>9.000000</td>\n",
       "      <td>1.500000</td>\n",
       "      <td>4.000000</td>\n",
       "      <td>4.000000</td>\n",
       "      <td>0.500000</td>\n",
       "      <td>0.500000</td>\n",
       "      <td>0.500000</td>\n",
       "      <td>1.000000</td>\n",
       "      <td>0.500000</td>\n",
       "      <td>0.500000</td>\n",
       "      <td>1100.000000</td>\n",
       "      <td>1101.000000</td>\n",
       "      <td>NaN</td>\n",
       "      <td>9.000000</td>\n",
       "      <td>NaN</td>\n",
       "    </tr>\n",
       "    <tr>\n",
       "      <th>max</th>\n",
       "      <td>12.000000</td>\n",
       "      <td>12.000000</td>\n",
       "      <td>3.000000</td>\n",
       "      <td>5.000000</td>\n",
       "      <td>5.000000</td>\n",
       "      <td>1.000000</td>\n",
       "      <td>1.000000</td>\n",
       "      <td>1.000000</td>\n",
       "      <td>1.000000</td>\n",
       "      <td>1.000000</td>\n",
       "      <td>1.000000</td>\n",
       "      <td>1111.000000</td>\n",
       "      <td>1111.000000</td>\n",
       "      <td>NaN</td>\n",
       "      <td>12.000000</td>\n",
       "      <td>NaN</td>\n",
       "    </tr>\n",
       "  </tbody>\n",
       "</table>\n",
       "</div>"
      ],
      "text/plain": [
       "           time_bp      time_dp  travel_time  easeof_online     home_env  \\\n",
       "count  1175.000000  1175.000000  1175.000000    1175.000000  1175.000000   \n",
       "mean      7.415319     7.971915     1.027660       2.533617     2.752340   \n",
       "std       2.005385     2.657007     0.713314       1.267609     1.235799   \n",
       "min       4.000000     4.000000     0.500000       1.000000     1.000000   \n",
       "25%       5.000000     5.000000     0.500000       1.000000     2.000000   \n",
       "50%       7.000000     9.000000     0.500000       2.000000     3.000000   \n",
       "75%       9.000000     9.000000     1.500000       4.000000     4.000000   \n",
       "max      12.000000    12.000000     3.000000       5.000000     5.000000   \n",
       "\n",
       "          prod_inc    sleep_bal    new_skill  fam_connect      relaxed  \\\n",
       "count  1175.000000  1175.000000  1175.000000  1175.000000  1175.000000   \n",
       "mean      0.008936    -0.108936     0.146809     0.260426     0.035745   \n",
       "std       0.615083     0.621215     0.643686     0.686825     0.626637   \n",
       "min      -1.000000    -1.000000    -1.000000    -1.000000    -1.000000   \n",
       "25%      -0.500000    -0.500000    -0.500000     0.000000    -0.500000   \n",
       "50%       0.000000     0.000000     0.500000     0.500000     0.000000   \n",
       "75%       0.500000     0.500000     0.500000     1.000000     0.500000   \n",
       "max       1.000000     1.000000     1.000000     1.000000     1.000000   \n",
       "\n",
       "         self_time      like_hw   dislike_hw  Unnamed: 19    time_bp.1  \\\n",
       "count  1175.000000  1175.000000  1175.000000          0.0  1175.000000   \n",
       "mean      0.082979   734.840851   651.067234          NaN     7.415319   \n",
       "std       0.541434   468.000935   502.319310          NaN     2.005385   \n",
       "min      -1.000000     1.000000     1.000000          NaN     4.000000   \n",
       "25%      -0.500000   100.000000   101.000000          NaN     5.000000   \n",
       "50%       0.000000  1001.000000  1000.000000          NaN     7.000000   \n",
       "75%       0.500000  1100.000000  1101.000000          NaN     9.000000   \n",
       "max       1.000000  1111.000000  1111.000000          NaN    12.000000   \n",
       "\n",
       "       travel+work  \n",
       "count          0.0  \n",
       "mean           NaN  \n",
       "std            NaN  \n",
       "min            NaN  \n",
       "25%            NaN  \n",
       "50%            NaN  \n",
       "75%            NaN  \n",
       "max            NaN  "
      ]
     },
     "execution_count": 6,
     "metadata": {},
     "output_type": "execute_result"
    }
   ],
   "source": [
    "df.describe()"
   ]
  },
  {
   "cell_type": "code",
   "execution_count": 7,
   "id": "27cd8d62",
   "metadata": {
    "scrolled": false
   },
   "outputs": [
    {
     "data": {
      "text/plain": [
       "Index(['age', 'gender', 'occupation', 'line_of_work', 'time_bp', 'time_dp',\n",
       "       'travel_time', 'easeof_online', 'home_env', 'prod_inc', 'sleep_bal',\n",
       "       'new_skill', 'fam_connect', 'relaxed', 'self_time', 'like_hw',\n",
       "       'dislike_hw', 'prefer', 'certaindays_hw', 'Unnamed: 19', 'time_bp.1',\n",
       "       'travel+work'],\n",
       "      dtype='object')"
      ]
     },
     "execution_count": 7,
     "metadata": {},
     "output_type": "execute_result"
    }
   ],
   "source": [
    "df.columns"
   ]
  },
  {
   "cell_type": "markdown",
   "id": "89172a9c",
   "metadata": {},
   "source": [
    "Renomeamos as colunas para melhor entendimento e excluimos as últimas três, das quais duas não tem valor algum e a outra não é específicada."
   ]
  },
  {
   "cell_type": "code",
   "execution_count": 8,
   "id": "d7ba52bf",
   "metadata": {},
   "outputs": [],
   "source": [
    "df.columns = ['Idade (anos)', 'Gênero', 'Ocupação', 'Linha de Trabalho','Tempo gasto no trabalho antes da pandemia','Tempo gasto no trabalho na pandemia','Tempo de Jornada de Trabalho','Avaliação de Facilidade com Internet', 'Gosta do ambiente doméstico','Avaliação de melhora de produtividade', 'Avaliação do Ciclo do Sono', 'Ganho de Nova habilidade', 'Avaliação Conexão familiar', 'Avaliação de Relaxamento', 'Tempo ganho para cuidar de si', 'Gosta de home office', 'Não gosta de home office', 'Prefere trabalhar em casa/trabalho', 'Gosta de trabalhar em alguns dias específicos em casa','custom1', 'custom2', 'custom3']"
   ]
  },
  {
   "cell_type": "code",
   "execution_count": 9,
   "id": "d206f0da",
   "metadata": {
    "scrolled": true
   },
   "outputs": [
    {
     "data": {
      "text/plain": [
       "array([ 7,  5,  9, 11,  4, 12], dtype=int64)"
      ]
     },
     "execution_count": 9,
     "metadata": {},
     "output_type": "execute_result"
    }
   ],
   "source": [
    "df['custom2'].unique()"
   ]
  },
  {
   "cell_type": "code",
   "execution_count": 10,
   "id": "8b23c3a9",
   "metadata": {},
   "outputs": [],
   "source": [
    "df = df.drop(columns=['custom1','custom2','custom3'])"
   ]
  },
  {
   "cell_type": "code",
   "execution_count": 23,
   "id": "3fd1d046",
   "metadata": {
    "scrolled": false
   },
   "outputs": [
    {
     "data": {
      "text/plain": [
       "Idade (anos)                                              object\n",
       "Gênero                                                    object\n",
       "Ocupação                                                  object\n",
       "Linha de Trabalho                                         object\n",
       "Tempo gasto no trabalho antes da pandemia                  int64\n",
       "Tempo gasto no trabalho na pandemia                        int64\n",
       "Tempo de Jornada de Trabalho                             float64\n",
       "Avaliação de Facilidade com Internet                       int64\n",
       "Gosta do ambiente doméstico                                int64\n",
       "Avaliação de melhora de produtividade                    float64\n",
       "Avaliação do Ciclo do Sono                               float64\n",
       "Ganho de Nova habilidade                                 float64\n",
       "Avaliação Conexão familiar                               float64\n",
       "Avaliação de Relaxamento                                 float64\n",
       "Tempo ganho para cuidar de si                            float64\n",
       "Gosta de home office                                       int64\n",
       "Não gosta de home office                                   int64\n",
       "Prefere trabalhar em casa/trabalho                        object\n",
       "Gosta de trabalhar em alguns dias específicos em casa     object\n",
       "dtype: object"
      ]
     },
     "execution_count": 23,
     "metadata": {},
     "output_type": "execute_result"
    }
   ],
   "source": [
    "df.dtypes"
   ]
  },
  {
   "cell_type": "code",
   "execution_count": 11,
   "id": "6efd71f9",
   "metadata": {
    "scrolled": true
   },
   "outputs": [
    {
     "data": {
      "text/plain": [
       "Idade (anos)                                               0\n",
       "Gênero                                                     0\n",
       "Ocupação                                                   0\n",
       "Linha de Trabalho                                        696\n",
       "Tempo gasto no trabalho antes da pandemia                  0\n",
       "Tempo gasto no trabalho na pandemia                        0\n",
       "Tempo de Jornada de Trabalho                               0\n",
       "Avaliação de Facilidade com Internet                       0\n",
       "Gosta do ambiente doméstico                                0\n",
       "Avaliação de melhora de produtividade                      0\n",
       "Avaliação do Ciclo do Sono                                 0\n",
       "Ganho de Nova habilidade                                   0\n",
       "Avaliação Conexão familiar                                 0\n",
       "Avaliação de Relaxamento                                   0\n",
       "Tempo ganho para cuidar de si                              0\n",
       "Gosta de home office                                       0\n",
       "Não gosta de home office                                   0\n",
       "Prefere trabalhar em casa/trabalho                         0\n",
       "Gosta de trabalhar em alguns dias específicos em casa      0\n",
       "dtype: int64"
      ]
     },
     "execution_count": 11,
     "metadata": {},
     "output_type": "execute_result"
    }
   ],
   "source": [
    "df.isnull().sum()"
   ]
  },
  {
   "cell_type": "markdown",
   "id": "85737c5e",
   "metadata": {},
   "source": [
    "# Remapeamento"
   ]
  },
  {
   "cell_type": "code",
   "execution_count": 12,
   "id": "aec6e39c",
   "metadata": {
    "scrolled": false
   },
   "outputs": [
    {
     "data": {
      "text/plain": [
       "0        Homem\n",
       "1        Homem\n",
       "2        Homem\n",
       "3        Homem\n",
       "4       Mulher\n",
       "         ...  \n",
       "1170    Mulher\n",
       "1171    Mulher\n",
       "1172     Homem\n",
       "1173     Homem\n",
       "1174     Homem\n",
       "Name: Gênero, Length: 1175, dtype: object"
      ]
     },
     "execution_count": 12,
     "metadata": {},
     "output_type": "execute_result"
    }
   ],
   "source": [
    "df['Gênero'].map({\"Female\": \"Mulher\", \"Male\": \"Homem\"})"
   ]
  },
  {
   "cell_type": "code",
   "execution_count": 13,
   "id": "96ae472c",
   "metadata": {
    "scrolled": true
   },
   "outputs": [
    {
     "data": {
      "text/plain": [
       "array(['Student in College', 'Student in School', 'Working Professional',\n",
       "       'Entrepreneur', 'Retired/Senior Citizen', 'Homemaker',\n",
       "       'Currently Out of Work',\n",
       "       'Medical Professional aiding efforts against COVID-19'],\n",
       "      dtype=object)"
      ]
     },
     "execution_count": 13,
     "metadata": {},
     "output_type": "execute_result"
    }
   ],
   "source": [
    "df['Ocupação'].unique()"
   ]
  },
  {
   "cell_type": "code",
   "execution_count": 14,
   "id": "c1637fbf",
   "metadata": {},
   "outputs": [
    {
     "data": {
      "text/plain": [
       "0              Universitários\n",
       "1       Estudantes de escolas\n",
       "2              Universitários\n",
       "3              Universitários\n",
       "4              Universitários\n",
       "                ...          \n",
       "1170           Empreendedores\n",
       "1171        Dono/Dona de Casa\n",
       "1172            Profissionais\n",
       "1173            Profissionais\n",
       "1174            Profissionais\n",
       "Name: Ocupação, Length: 1175, dtype: object"
      ]
     },
     "execution_count": 14,
     "metadata": {},
     "output_type": "execute_result"
    }
   ],
   "source": [
    "df['Ocupação'].map({\"Student in College\": \"Universitários\", \"Student in School\": \"Estudantes de escolas\", \"Working Professional\": \"Profissionais\", \"Entrepreneur\": \"Empreendedores\", \"Retired/Senior Citizen\": \"Aposentados/Idosos\", \"Homemaker\": \"Dono/Dona de Casa\", \"Currently Out of Work\": \"Atualmente Sem Trabalho\", \"Medical Professional aiding efforts against COVID-19\": \"Médicos auxiliando ao combate contra COVID-19\"})"
   ]
  },
  {
   "cell_type": "code",
   "execution_count": 15,
   "id": "1decc10f",
   "metadata": {
    "scrolled": true
   },
   "outputs": [
    {
     "data": {
      "text/plain": [
       "array([nan, 'Teaching', 'Engineering', 'Management', 'APSPDCL ',\n",
       "       'Architecture', 'Architect', 'Other', 'Government Employee'],\n",
       "      dtype=object)"
      ]
     },
     "execution_count": 15,
     "metadata": {},
     "output_type": "execute_result"
    }
   ],
   "source": [
    "df['Linha de Trabalho'].unique()"
   ]
  },
  {
   "cell_type": "code",
   "execution_count": 16,
   "id": "8397eef7",
   "metadata": {},
   "outputs": [
    {
     "data": {
      "text/plain": [
       "0              NaN\n",
       "1              NaN\n",
       "2              NaN\n",
       "3              NaN\n",
       "4              NaN\n",
       "           ...    \n",
       "1170           NaN\n",
       "1171           NaN\n",
       "1172    Engenharia\n",
       "1173    Engenharia\n",
       "1174    Engenharia\n",
       "Name: Linha de Trabalho, Length: 1175, dtype: object"
      ]
     },
     "execution_count": 16,
     "metadata": {},
     "output_type": "execute_result"
    }
   ],
   "source": [
    "df['Linha de Trabalho'].map({\"Teaching\": \"Ensino\", \"Engineering\": \"Engenharia\", \"Management\": \"Administração\", \"Architecture\": \"Arquitetura\",\"Architect\": \"Arquitetura\", \"Other\": \"Outros\", \"Government Employee\": \"Funcionário Público\"})"
   ]
  },
  {
   "cell_type": "code",
   "execution_count": 37,
   "id": "b77e1501",
   "metadata": {},
   "outputs": [
    {
     "data": {
      "text/plain": [
       "array([ 7,  5,  9, 11,  4, 12], dtype=int64)"
      ]
     },
     "execution_count": 37,
     "metadata": {},
     "output_type": "execute_result"
    }
   ],
   "source": [
    "df['Tempo gasto no trabalho antes da pandemia'].unique()"
   ]
  },
  {
   "cell_type": "code",
   "execution_count": 46,
   "id": "c0d127a7",
   "metadata": {},
   "outputs": [
    {
     "data": {
      "text/plain": [
       "array([ 5, 11,  7,  4,  9, 12], dtype=int64)"
      ]
     },
     "execution_count": 46,
     "metadata": {},
     "output_type": "execute_result"
    }
   ],
   "source": [
    "df['Tempo gasto no trabalho na pandemia'].unique()"
   ]
  },
  {
   "cell_type": "code",
   "execution_count": 19,
   "id": "f6c15214",
   "metadata": {},
   "outputs": [
    {
     "data": {
      "text/plain": [
       "0       Dificuldade moderada\n",
       "1         Alguma dificuldade\n",
       "2          Pouca dificuldade\n",
       "3       Dificuldade moderada\n",
       "4          Pouca dificuldade\n",
       "                ...         \n",
       "1170       Pouca dificuldade\n",
       "1171    Dificuldade moderada\n",
       "1172    Dificuldade moderada\n",
       "1173       Pouca dificuldade\n",
       "1174       Pouca dificuldade\n",
       "Name: Avaliação de Facilidade com Internet, Length: 1175, dtype: object"
      ]
     },
     "execution_count": 19,
     "metadata": {},
     "output_type": "execute_result"
    }
   ],
   "source": [
    "df['Avaliação de Facilidade com Internet'].map({1: \"Sem dificuldade\", 2: \"Pouca dificuldade\", 3: \"Dificuldade moderada\", 4: \"Alguma dificuldade\",5: \"Muita dificuldade\"})"
   ]
  },
  {
   "cell_type": "code",
   "execution_count": 20,
   "id": "8c31411f",
   "metadata": {},
   "outputs": [
    {
     "data": {
      "text/plain": [
       "0       Indiferente\n",
       "1         Não gosta\n",
       "2         Não gosta\n",
       "3           Detesta\n",
       "4         Não gosta\n",
       "           ...     \n",
       "1170        Detesta\n",
       "1171    Gosta muito\n",
       "1172      Não gosta\n",
       "1173      Não gosta\n",
       "1174      Não gosta\n",
       "Name: Gosta do ambiente doméstico, Length: 1175, dtype: object"
      ]
     },
     "execution_count": 20,
     "metadata": {},
     "output_type": "execute_result"
    }
   ],
   "source": [
    "df['Gosta do ambiente doméstico'].map({1: \"Detesta\", 2: \"Não gosta\", 3: \"Indiferente\", 4: \"Gosta\",5: \"Gosta muito\"})"
   ]
  },
  {
   "cell_type": "code",
   "execution_count": 21,
   "id": "6c8d3d1d",
   "metadata": {},
   "outputs": [
    {
     "data": {
      "text/plain": [
       "array([ 0. , -0.5,  1. , -1. ,  0.5])"
      ]
     },
     "execution_count": 21,
     "metadata": {},
     "output_type": "execute_result"
    }
   ],
   "source": [
    "df['Avaliação de melhora de produtividade'].unique()"
   ]
  },
  {
   "cell_type": "code",
   "execution_count": 36,
   "id": "3c559892",
   "metadata": {},
   "outputs": [
    {
     "data": {
      "text/plain": [
       "array([ 0. ,  0.5,  1. , -1. , -0.5])"
      ]
     },
     "execution_count": 36,
     "metadata": {},
     "output_type": "execute_result"
    }
   ],
   "source": [
    "df['Avaliação do Ciclo do Sono'].unique()"
   ]
  },
  {
   "cell_type": "code",
   "execution_count": 24,
   "id": "3b046e7f",
   "metadata": {
    "scrolled": false
   },
   "outputs": [
    {
     "data": {
      "text/plain": [
       "0       Complete Physical Attendance\n",
       "1       Complete Physical Attendance\n",
       "2       Complete Physical Attendance\n",
       "3       Complete Physical Attendance\n",
       "4       Complete Physical Attendance\n",
       "                    ...             \n",
       "1170    Complete Physical Attendance\n",
       "1171    Complete Physical Attendance\n",
       "1172    Complete Physical Attendance\n",
       "1173    Complete Physical Attendance\n",
       "1174            Work/study from home\n",
       "Name: Prefere trabalhar em casa/trabalho, Length: 1175, dtype: object"
      ]
     },
     "execution_count": 24,
     "metadata": {},
     "output_type": "execute_result"
    }
   ],
   "source": [
    "df['Prefere trabalhar em casa/trabalho']"
   ]
  },
  {
   "cell_type": "code",
   "execution_count": 25,
   "id": "af16295d",
   "metadata": {
    "scrolled": true
   },
   "outputs": [
    {
     "data": {
      "text/plain": [
       "0          Sim\n",
       "1          Não\n",
       "2          Sim\n",
       "3          Sim\n",
       "4          Sim\n",
       "         ...  \n",
       "1170       Sim\n",
       "1171    Talvez\n",
       "1172    Talvez\n",
       "1173       Sim\n",
       "1174       Sim\n",
       "Name: Gosta de trabalhar em alguns dias específicos em casa, Length: 1175, dtype: object"
      ]
     },
     "execution_count": 25,
     "metadata": {},
     "output_type": "execute_result"
    }
   ],
   "source": [
    "df['Gosta de trabalhar em alguns dias específicos em casa'].map({'Yes' : 'Sim', 'No' : 'Não', 'Maybe' : 'Talvez'})"
   ]
  },
  {
   "cell_type": "code",
   "execution_count": 26,
   "id": "bee3a399",
   "metadata": {},
   "outputs": [],
   "source": [
    "df_norm = df[['Avaliação do Ciclo do Sono', 'Ganho de Nova habilidade', 'Avaliação Conexão familiar', 'Avaliação de Relaxamento', 'Tempo ganho para cuidar de si']]\n",
    "df_bin = df[['Gosta de home office', 'Não gosta de home office']]"
   ]
  },
  {
   "cell_type": "markdown",
   "id": "9a5d03c8",
   "metadata": {},
   "source": [
    "# Dados Faltantes (Missing Values)"
   ]
  },
  {
   "cell_type": "code",
   "execution_count": 27,
   "id": "2670aae3",
   "metadata": {},
   "outputs": [
    {
     "data": {
      "text/plain": [
       "Idade (anos)                                             0.00000\n",
       "Gênero                                                   0.00000\n",
       "Ocupação                                                 0.00000\n",
       "Linha de Trabalho                                        0.59234\n",
       "Tempo gasto no trabalho antes da pandemia                0.00000\n",
       "Tempo gasto no trabalho na pandemia                      0.00000\n",
       "Tempo de Jornada de Trabalho                             0.00000\n",
       "Avaliação de Facilidade com Internet                     0.00000\n",
       "Gosta do ambiente doméstico                              0.00000\n",
       "Avaliação de melhora de produtividade                    0.00000\n",
       "Avaliação do Ciclo do Sono                               0.00000\n",
       "Ganho de Nova habilidade                                 0.00000\n",
       "Avaliação Conexão familiar                               0.00000\n",
       "Avaliação de Relaxamento                                 0.00000\n",
       "Tempo ganho para cuidar de si                            0.00000\n",
       "Gosta de home office                                     0.00000\n",
       "Não gosta de home office                                 0.00000\n",
       "Prefere trabalhar em casa/trabalho                       0.00000\n",
       "Gosta de trabalhar em alguns dias específicos em casa    0.00000\n",
       "dtype: float64"
      ]
     },
     "execution_count": 27,
     "metadata": {},
     "output_type": "execute_result"
    }
   ],
   "source": [
    "df.isnull().mean()"
   ]
  },
  {
   "cell_type": "code",
   "execution_count": 28,
   "id": "b3beb1d4",
   "metadata": {},
   "outputs": [
    {
     "data": {
      "text/plain": [
       "<matplotlib.legend.Legend at 0x1f4d2ef1060>"
      ]
     },
     "execution_count": 28,
     "metadata": {},
     "output_type": "execute_result"
    },
    {
     "data": {
      "image/png": "[encoded data removed]",
      "text/plain": [
       "<Figure size 300x600 with 1 Axes>"
      ]
     },
     "metadata": {},
     "output_type": "display_data"
    }
   ],
   "source": [
    "plt.figure(figsize=(3,6))\n",
    "\n",
    "nulos = df['Linha de Trabalho'].isnull().sum()\n",
    "N_nulos = df['Linha de Trabalho'].notnull().sum()\n",
    "\n",
    "plt.bar('Total', nulos, label='Nulos')\n",
    "plt.bar('Total', N_nulos, bottom=nulos, label='Não Nulos')\n",
    "\n",
    "plt.ylabel('Quantidade')\n",
    "\n",
    "plt.legend()"
   ]
  },
  {
   "cell_type": "code",
   "execution_count": 17,
   "id": "60948227",
   "metadata": {},
   "outputs": [
    {
     "name": "stdout",
     "output_type": "stream",
     "text": [
      " Existem 696 de índividuos que não possuem a linha de trabalho identificadas.\n"
     ]
    }
   ],
   "source": [
    "NA_Trabalho = df['Linha de Trabalho'].isna().sum()\n",
    "print(f' Existem {NA_Trabalho} de índividuos que não possuem a linha de trabalho identificadas.')"
   ]
  },
  {
   "cell_type": "markdown",
   "id": "1ff7f53a",
   "metadata": {},
   "source": [
    "# Distribuição de Dados por Faixa Etária"
   ]
  },
  {
   "cell_type": "code",
   "execution_count": 29,
   "id": "eb7be308",
   "metadata": {
    "scrolled": false
   },
   "outputs": [
    {
     "data": {
      "text/plain": [
       "[Text(0.5, 0, 'Idade (anos)'), Text(0, 0.5, 'Quantidade de Pessoas Avaliadas')]"
      ]
     },
     "execution_count": 29,
     "metadata": {},
     "output_type": "execute_result"
    },
    {
     "data": {
      "image/png": "[encoded data removed]",
      "text/plain": [
       "<Figure size 1000x600 with 1 Axes>"
      ]
     },
     "metadata": {},
     "output_type": "display_data"
    }
   ],
   "source": [
    "plt.figure(figsize=(10,6))\n",
    "\n",
    "df['Idade (anos)'] = pd.Categorical(df['Idade (anos)'], categories=['Dec-18','19-25', '26-32', '33-40', '40-50', '50-60', '60+'], ordered=True)\n",
    "ax = sns.histplot(x = 'Idade (anos)', color='purple',\n",
    "              data = df)\n",
    "ax.set(xlabel='Idade (anos)', ylabel='Quantidade de Pessoas Avaliadas')"
   ]
  },
  {
   "cell_type": "code",
   "execution_count": 45,
   "id": "ce97d6c6",
   "metadata": {
    "scrolled": false
   },
   "outputs": [
    {
     "name": "stderr",
     "output_type": "stream",
     "text": [
      "C:\\Users\\gabri\\AppData\\Local\\Temp\\ipykernel_7944\\2134990655.py:6: UserWarning: FixedFormatter should only be used together with FixedLocator\n",
      "  ax.set_xticklabels(ax.get_xticklabels(), rotation=90)\n"
     ]
    },
    {
     "data": {
      "text/plain": [
       "[Text(0, 0, 'Student in College'),\n",
       " Text(1, 0, 'Student in School'),\n",
       " Text(2, 0, 'Working Professional'),\n",
       " Text(3, 0, 'Entrepreneur'),\n",
       " Text(4, 0, 'Retired/Senior Citizen'),\n",
       " Text(5, 0, 'Homemaker'),\n",
       " Text(6, 0, 'Currently Out of Work'),\n",
       " Text(7, 0, 'Medical Professional aiding efforts against COVID-19')]"
      ]
     },
     "execution_count": 45,
     "metadata": {},
     "output_type": "execute_result"
    },
    {
     "data": {
      "image/png": "[encoded data removed]",
      "text/plain": [
       "<Figure size 1000x600 with 1 Axes>"
      ]
     },
     "metadata": {},
     "output_type": "display_data"
    }
   ],
   "source": [
    "plt.figure(figsize=(10,6))\n",
    "\n",
    "ax = sns.histplot(x = 'Ocupação', color='purple',\n",
    "              data = df)\n",
    "ax.set(xlabel='Ocupação', ylabel='Quantidade de Pessoas Avaliadas')\n",
    "ax.set_xticklabels(ax.get_xticklabels(), rotation=90)"
   ]
  },
  {
   "cell_type": "code",
   "execution_count": null,
   "id": "2905b312",
   "metadata": {},
   "outputs": [],
   "source": [
    "#Fazer gráfico comparando antes/depois"
   ]
  },
  {
   "cell_type": "markdown",
   "id": "061dac8c",
   "metadata": {},
   "source": [
    "# Matriz de Correlação"
   ]
  },
  {
   "cell_type": "code",
   "execution_count": null,
   "id": "bb95dd91",
   "metadata": {
    "scrolled": true
   },
   "outputs": [],
   "source": [
    "corr = df.corr(numeric_only=True)\n",
    "\n",
    "sns.heatmap(corr, xticklabels=corr.columns, yticklabels=corr.columns, annot=True, cmap='coolwarm', fmt='.2f')\n",
    "\n",
    "sns.set (rc = {'figure.figsize':(10, 10)})"
   ]
  }
 ],
 "metadata": {
  "kernelspec": {
   "display_name": "Python 3 (ipykernel)",
   "language": "python",
   "name": "python3"
  },
  "language_info": {
   "codemirror_mode": {
    "name": "ipython",
    "version": 3
   },
   "file_extension": ".py",
   "mimetype": "text/x-python",
   "name": "python",
   "nbconvert_exporter": "python",
   "pygments_lexer": "ipython3",
   "version": "3.10.9"
  },
  "vscode": {
   "interpreter": {
    "hash": "5238573367df39f7286bb46f9ff5f08f63a01a80960060ce41e3c79b190280fa"
   }
  }
 },
 "nbformat": 4,
 "nbformat_minor": 5
}
